{
 "cells": [
  {
   "cell_type": "code",
   "execution_count": 1,
   "metadata": {},
   "outputs": [
    {
     "name": "stdout",
     "output_type": "stream",
     "text": [
      "['3fmz\\n', '2is0\\n', '6mr5\\n', '6fdt\\n', '5l7e\\n', '2wej\\n', '5wmg\\n', '3faa\\n', '3lq4\\n', '5kos\\n', '3pb7\\n', '4yrr\\n', '3kjn\\n', '1g50\\n', '4qew\\n', '4e3n\\n', '1hn2\\n', '2f9k\\n', '2jew\\n', '5bml\\n', '1me7\\n', '5ier\\n', '4u3f\\n', '3azb\\n', '5fnt\\n', '3t3d\\n', '3m40\\n', '2cfg\\n', '3c5u\\n', '3mfv\\n', '5vrp\\n', '3wax\\n', '1zpa\\n', '6hm2\\n', '3vbg\\n', '4ie0\\n', '3hig\\n', '4bgk\\n', '1ymx\\n', '4h1e\\n', '3pb8\\n', '3n2c\\n', '4d8c\\n', '5bqi\\n', '4o10\\n', '5cxh\\n', '3lxl\\n', '1g3b\\n', '4wk2\\n', '2pou\\n', '5nvh\\n', '3kwz\\n', '4b6s\\n', '3ovn\\n', '6ma4\\n', '4okg\\n', '3g4l\\n', '5hct\\n', '4a9m\\n', '3exh\\n', '2bcd\\n', '2wzm\\n', '3kx1\\n', '4ux4\\n', '1fpy\\n', '5akj\\n', '1d4i\\n', '1uze\\n', '5x33\\n', '1d09\\n', '4gii\\n', '3f16\\n', '6ezq\\n', '2va5\\n', '5uq9\\n', '1pzp\\n', '5l2z\\n', '4f4p\\n', '2gkl\\n', '5c28\\n']\n"
     ]
    }
   ],
   "source": [
    "import random\n",
    "\n",
    "# Define the paths for the input and output files\n",
    "input_file_path = 'finetune_train'  # Replace with the actual path of your input file\n",
    "output_file_path = 'finetune_train_small'\n",
    "\n",
    "# Read all lines from the input file\n",
    "with open(input_file_path, 'r', encoding='utf-8') as file:\n",
    "    all_entries = file.readlines()\n",
    "\n",
    "# Randomly select 80 entries from the list\n",
    "selected_entries = random.sample(all_entries, 80)\n",
    "print(selected_entries)\n",
    "\n",
    "# Write the selected entries to the output file\n",
    "with open(output_file_path, 'w', encoding='utf-8') as file:\n",
    "    file.writelines(selected_entries)\n"
   ]
  },
  {
   "cell_type": "code",
   "execution_count": 2,
   "metadata": {},
   "outputs": [
    {
     "name": "stdout",
     "output_type": "stream",
     "text": [
      "['1o2t\\n', '4own\\n', '4e3j\\n', '1bmq\\n', '5znr\\n', '2b53\\n', '3jsw\\n', '4mb9\\n', '3s7m\\n', '1njj\\n', '3vzd\\n', '3dga\\n', '1l5r\\n', '4ris\\n', '4lkg\\n', '3p1d\\n', '2puy\\n', '3ara\\n', '3u7l\\n', '5uxf\\n']\n"
     ]
    }
   ],
   "source": [
    "import random\n",
    "\n",
    "# Define the paths for the input and output files\n",
    "input_file_path = 'finetune_val'  # Replace with the actual path of your input file\n",
    "output_file_path = 'finetune_val_small'\n",
    "\n",
    "# Read all lines from the input file\n",
    "with open(input_file_path, 'r', encoding='utf-8') as file:\n",
    "    all_entries = file.readlines()\n",
    "\n",
    "# Randomly select 80 entries from the list\n",
    "selected_entries = random.sample(all_entries, 20)\n",
    "print(selected_entries)\n",
    "\n",
    "# Write the selected entries to the output file\n",
    "with open(output_file_path, 'w', encoding='utf-8') as file:\n",
    "    file.writelines(selected_entries)"
   ]
  }
 ],
 "metadata": {
  "kernelspec": {
   "display_name": "Python 3",
   "language": "python",
   "name": "python3"
  },
  "language_info": {
   "codemirror_mode": {
    "name": "ipython",
    "version": 3
   },
   "file_extension": ".py",
   "mimetype": "text/x-python",
   "name": "python",
   "nbconvert_exporter": "python",
   "pygments_lexer": "ipython3",
   "version": "3.9.18"
  }
 },
 "nbformat": 4,
 "nbformat_minor": 2
}
